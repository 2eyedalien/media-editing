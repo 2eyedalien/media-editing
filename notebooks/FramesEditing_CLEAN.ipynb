{
 "nbformat": 4,
 "nbformat_minor": 0,
 "metadata": {
  "colab": {
   "provenance": []
  },
  "kernelspec": {
   "name": "python3",
   "display_name": "Python 3"
  },
  "language_info": {
   "name": "python"
  }
 },
 "cells": [
  {
   "cell_type": "code",
   "source": [
    "!pip install -q condacolab\nimport condacolab\ncondacolab.install()\n"
   ],
   "metadata": {
    "colab": {
     "base_uri": "https://localhost:8080/"
    },
    "id": "EgIEtIgNdlJv",
    "outputId": "7673bc03-cfb3-4809-b7e3-3c6213e2ce02"
   },
   "execution_count": null,
   "outputs": []
  },
  {
   "cell_type": "code",
   "source": [
    "!conda create -n sage sage python=3.8\n"
   ],
   "metadata": {
    "colab": {
     "base_uri": "https://localhost:8080/"
    },
    "id": "AKV5G4tCd4zj",
    "outputId": "610ca867-acf3-4a90-c83c-c80c19f608b9"
   },
   "execution_count": null,
   "outputs": []
  },
  {
   "cell_type": "code",
   "source": [
    "conda activate sage\n"
   ],
   "metadata": {
    "colab": {
     "base_uri": "https://localhost:8080/",
     "height": 321
    },
    "id": "CUxvlKLoeveW",
    "outputId": "cabb20f3-d9f5-4959-9ea0-6de9326f259e"
   },
   "execution_count": null,
   "outputs": []
  },
  {
   "cell_type": "code",
   "execution_count": null,
   "metadata": {
    "colab": {
     "base_uri": "https://localhost:8080/",
     "height": 315
    },
    "id": "klylZbWBdcKA",
    "outputId": "fdb89a3d-78ea-47ba-ff66-f021df1439bf"
   },
   "outputs": [],
   "source": [
    "from sage.all import *\n"
   ]
  },
  {
   "cell_type": "code",
   "source": [
    "# This script defines and plots a projective cubic curve in an affine chart\n\n# Set up Sage environment (run this in SageMath or a SageCell)\nvar('x y')\n\n# Choose a lambda value not equal to 0 or 1\nlambda_val = 2\n\n# Define the affine version of the curve by setting Z = 1\nf = y^2 - x*(x - 1)*(x - lambda_val)\n\n# Plot the curve implicitly over real numbers\nplot_range_x = (-2, 3)\nplot_range_y = (-3, 3)\n\nplot_title = f\"Affine slice (Z=1) of projective curve for λ = {lambda_val}\"\nplot = implicit_plot(f == 0, plot_range_x, plot_range_y, plot_points=300)\nplot.show(title=plot_title)\n\n# Optional: define the projective version symbolically\nP.<X,Y,Z> = ProjectiveSpace(2, QQ)\nR = P.coordinate_ring()\nF = Y^2*Z - X*(X - Z)*(X - lambda_val*Z)\nC = Curve(F)\n\n# Show properties of the curve\n"
   ],
   "metadata": {
    "colab": {
     "base_uri": "https://localhost:8080/",
     "height": 106
    },
    "id": "iRwqbObXdhWy",
    "outputId": "57d6fb8d-53bc-4b5a-d076-410a5c9dc08f"
   },
   "execution_count": null,
   "outputs": []
  }
 ]
}