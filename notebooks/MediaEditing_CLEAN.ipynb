{
 "cells": [
  {
   "cell_type": "code",
   "execution_count": null,
   "metadata": {
    "id": "cVV9-hQZszZP"
   },
   "outputs": [],
   "source": [
    "from PIL import Image, ImageEnhance, ImageDraw, ImageFont\n"
   ]
  },
  {
   "cell_type": "code",
   "execution_count": null,
   "metadata": {
    "id": "ia1N5UP7gs2M"
   },
   "outputs": [],
   "source": [
    "from collections import Counter\nimport random\nimport math\n"
   ]
  },
  {
   "cell_type": "code",
   "execution_count": null,
   "metadata": {
    "colab": {
     "base_uri": "https://localhost:8080/"
    },
    "id": "JTAVOpQLFYm3",
    "outputId": "5025a2de-8df1-4667-e465-b08d14f23ab5"
   },
   "outputs": [],
   "source": [
    "from google.colab import drive\ndrive.mount(\"/content/gdrive\")\n"
   ]
  },
  {
   "source": [
    "import cv2\nimport os\n\n# Remove the extra double quotes from the path\nimage_folder = '/content/gdrive/My Drive/framestrial'\nvideo_name = 'path/to/video.avi'\n\n# Rest of the code remains the same\nimages = [img for img in os.listdir(image_folder) if img.endswith(\"path/to/image.png\")]\nframe = cv2.imread(os.path.join(image_folder, images[0]))\nheight, width, layers = frame.shape\n\n# Change the fourcc code to a known working codec for AVI files (XVID)\nfourcc = cv2.VideoWriter_fourcc(*'XVID')\nvideo = cv2.VideoWriter(video_name, fourcc, 1, (width,height))\n\nfor image in images:\n    video.write(cv2.imread(os.path.join(image_folder, image)))\n\nvideo.release()\n\n# Print a message to confirm the video saving process is complete\n"
   ],
   "cell_type": "code",
   "metadata": {
    "colab": {
     "base_uri": "https://localhost:8080/",
     "height": 211
    },
    "id": "6zQY-9TO79w4",
    "outputId": "0cf8a864-93a7-48d4-e9b0-cbee13cbd128"
   },
   "execution_count": null,
   "outputs": []
  },
  {
   "cell_type": "code",
   "source": [
    "import cv2\nimport os\nfrom google.colab import drive\nfrom google.colab import auth\nfrom googleapiclient.discovery import build\n\n# Authenticate and create the Drive API client\nauth.authenticate_user()\ndrive_service = build('drive', 'v3')\n\n# Specify the full path to your desired location in Google Drive\nimage_folder = '/content/gdrive/My Drive/framestrial'\nvideo_name = 'path/to/video.avi'\n\n# Get image list and dimensions\nimages = sorted([img for img in os.listdir(image_folder) if img.lower().endswith(\"path/to/image.png\")])  # Sort for correct order\nframe = cv2.imread(os.path.join(image_folder, images[0]))\nheight, width, layers = frame.shape\n\n# Video settings\nfourcc = cv2.VideoWriter_fourcc(*'MJPG')\nfps = 30  # Frames per second\nvideo_duration = 60  # Desired video duration in seconds\ntotal_frames = fps * video_duration  # Total number of frames in the video\n\n# Initialize video writer\nvideo = cv2.VideoWriter(video_name, fourcc, fps, (width, height))\n\n# Calculate repetitions needed to fill the video\nframes_per_image = total_frames // len(images)  # Frames allocated to each image\nremaining_frames = total_frames % len(images)  # Remainder frames for adjustments\n\n# Write frames to the video\nfor i, image in enumerate(images):\n    frame = cv2.imread(os.path.join(image_folder, image))\n    repeat_count = frames_per_image + (1 if i < remaining_frames else 0)  # Distribute extra frames evenly\n    for _ in range(repeat_count):\n        video.write(frame)\n\n# Release video writer\nvideo.release()\n"
   ],
   "metadata": {
    "id": "-k6il4Bs-bdG"
   },
   "execution_count": null,
   "outputs": []
  },
  {
   "cell_type": "code",
   "source": [
    "import cv2\nimport os\nfrom google.colab import auth\nfrom googleapiclient.discovery import build\n\n# Authenticate and create the Drive API client\nauth.authenticate_user()\ndrive_service = build('drive', 'v3')\n\n# Specify the full path to your desired location in Google Drive\nimage_folder = '/content/gdrive/My Drive/framestrial'\nvideo_name = 'path/to/video.avi'\n\n# Get image list and dimensions\nimages = sorted([img for img in os.listdir(image_folder) if img.lower().endswith(\"path/to/image.png\")])\nif not images:\n    raise FileNotFoundError(f\"No PNG images found in {image_folder}. Please check the folder path and contents.\")\n\nframe = cv2.imread(os.path.join(image_folder, images[0]))\nif frame is None:\n    raise ValueError(f\"Unable to read the first image: {images[0]}. Check if the images are corrupted or accessible.\")\n\nheight, width, layers = frame.shape\n\n# Video settings\nfourcc = cv2.VideoWriter_fourcc(*'XVID')  # Use XVID codec for better compatibility\nfps = 30  # Frames per second\nvideo_duration = 60  # Desired video duration in seconds\ntotal_frames = fps * video_duration  # Total number of frames in the video\n\n# Initialize video writer\nvideo = cv2.VideoWriter(video_name, fourcc, fps, (width, height))\n\n# Calculate repetitions needed to fill the video\nframes_per_image = total_frames // len(images)\nremaining_frames = total_frames % len(images)\n\n# Write frames to the video\nfor i, image in enumerate(images):\n    frame = cv2.imread(os.path.join(image_folder, image))\n    if frame is None:\n        continue\n\n    repeat_count = frames_per_image + (1 if i < remaining_frames else 0)  # Distribute extra frames\n    for _ in range(repeat_count):\n        video.write(frame)\n\n# Release video writer\nvideo.release()\n\n# Verify the video file\nif not os.path.exists(video_name):\n    raise FileNotFoundError(f\"Video file was not saved at {video_name}. Check write permissions and path.\")\nelse:\n"
   ],
   "metadata": {
    "colab": {
     "base_uri": "https://localhost:8080/",
     "height": 211
    },
    "id": "JDxPrATCF4Mk",
    "outputId": "dd02c02c-a8f8-49b4-fd0d-dd9598e47b83"
   },
   "execution_count": null,
   "outputs": []
  },
  {
   "cell_type": "code",
   "source": [
    "# Create the file metadata\nfile_metadata = {\n    'name': video_name,\n    'parents': ['1YWZxfnX64iemPiQNxXF-fFLJiQe56hhr'] # Replace with ID of folder in your Drive\n}\n\n# Upload the file\nmedia = MediaIoBaseUpload(video_buffer, mimetype='video/x-msvideo', resumable=True)\ncreated_file = drive_service.files().create(body=file_metadata,\n                                           media_body=media,\n                                           fields='id').execute()\n"
   ],
   "metadata": {
    "colab": {
     "base_uri": "https://localhost:8080/"
    },
    "id": "TFKI33Lw_2Zp",
    "outputId": "e6e6c937-aa63-423f-d29e-e1c77f3a7f61"
   },
   "execution_count": null,
   "outputs": []
  },
  {
   "cell_type": "code",
   "execution_count": null,
   "metadata": {
    "id": "RYAsGduy7AgB"
   },
   "outputs": [],
   "source": [
    "reds = [(255,194,194,0),(255,105,97,255),(255,92,92,255),(255,28,0,255),(255,8,0,255),(205,92,92,255),(227,66,52,255),(215,59,62,255),(206,22,32,255),(204,0,0,255),(179,27,27)]\n"
   ]
  },
  {
   "cell_type": "code",
   "execution_count": null,
   "metadata": {
    "id": "umJjDeo01hjq"
   },
   "outputs": [],
   "source": [
    ""
   ]
  },
  {
   "cell_type": "code",
   "execution_count": null,
   "metadata": {
    "id": "sOfKMYotkOxE"
   },
   "outputs": [],
   "source": [
    "def getRvalues(image):\n  pixels = image.load()\n  arr = []\n  for x in range(50):\n      arr.append(random.randint(0,500) +(pixels[x,50][0]%21))\n\n  return arr\n"
   ]
  },
  {
   "cell_type": "code",
   "execution_count": null,
   "metadata": {
    "id": "jcpq9LwEk2E4"
   },
   "outputs": [],
   "source": [
    "arr = getRvalues(Image.open('path/to/image.jpeg'))\n"
   ]
  },
  {
   "cell_type": "code",
   "execution_count": null,
   "metadata": {
    "colab": {
     "base_uri": "https://localhost:8080/"
    },
    "id": "DgD06rJEmBa5",
    "outputId": "0eae55d9-c9de-4f4e-b13e-0ea3fe2ecd31"
   },
   "outputs": [],
   "source": [
    ""
   ]
  },
  {
   "cell_type": "code",
   "execution_count": null,
   "metadata": {
    "colab": {
     "base_uri": "https://localhost:8080/"
    },
    "id": "N6ZGf4SZmrLB",
    "outputId": "af495ab7-de56-4264-a4c7-53c4b88db8ea"
   },
   "outputs": [],
   "source": [
    ""
   ]
  },
  {
   "cell_type": "code",
   "execution_count": null,
   "metadata": {
    "id": "7W96kOxV52hI"
   },
   "outputs": [],
   "source": [
    "def modifyreds(image):\n  pixels = image.load()\n  width = image.size[0]\n  height = image.size[1]\n  for x in range(width):\n    for y in range(height):\n      if pixels[x,y][0] > pixels[x,y][1] and pixels[x,y][0] > pixels[x,y][2]:\n        if pixels[x,y][0] in range(175,255) and pixels[x,y][1] in range(175,255) and pixels[x,y][2] in range(175,255):\n          continue\n        if pixels[x,y][0] in range(0,100) and pixels[x,y][1] in range(0,100) and pixels[x,y][2] in range(0,100):\n          continue\n        pixels[x,y] = reducergbmodn(pixels[x,y],3)\n"
   ]
  },
  {
   "cell_type": "code",
   "execution_count": null,
   "metadata": {
    "id": "Q3aODcLFeKUb"
   },
   "outputs": [],
   "source": [
    ""
   ]
  },
  {
   "cell_type": "code",
   "execution_count": null,
   "metadata": {
    "id": "BCPplI30_9cK"
   },
   "outputs": [],
   "source": [
    "greens = [(178,236,93,255),(124,252,0,255),(102,255,0,155),(162,225,175,255),(119,221,119,255),(147,197,114,255),(133,187,101,255),(135,169,107,255),(3,192,60,255),(120,134,107,255),(19,136,8,255),(0,128,0,255),(85,107,47,255),(65,72,51,255)]\n"
   ]
  },
  {
   "cell_type": "code",
   "execution_count": null,
   "metadata": {
    "id": "tbvzLQsAH_2N"
   },
   "outputs": [],
   "source": [
    "def removegreens(image):\n  pixels = image.load()\n  width = image.size[0]\n  height = image.size[1]\n  for x in range(width):\n    for y in range(height):\n      if ((pixels[x,y][1] > pixels[x,y][2] > pixels[x,y][0]) or (pixels[x,y][0] in range(0,75) and pixels[x,y][1] in range(175,255) and pixels[x,y][2] in range(0,90))):\n        pixels[x,y] = (250,250,250,250)\n\n      else: continue\n"
   ]
  },
  {
   "cell_type": "markdown",
   "metadata": {
    "id": "f90PYafnV80A"
   },
   "source": []
  },
  {
   "cell_type": "code",
   "execution_count": null,
   "metadata": {
    "id": "tJI_len-V1na"
   },
   "outputs": [],
   "source": [
    "road = Image.open('path/to/image.jpg')\nremovegreens(road)\nroad.save('path/to/image.png')\n"
   ]
  },
  {
   "cell_type": "code",
   "execution_count": null,
   "metadata": {
    "id": "rAHCfI61WDCf"
   },
   "outputs": [],
   "source": [
    ""
   ]
  },
  {
   "cell_type": "code",
   "execution_count": null,
   "metadata": {
    "id": "ie_BRTmjaQf4"
   },
   "outputs": [],
   "source": [
    "\n\n\ndef oppositepixel(pixel):\n  r = 255-pixel[0]\n  g = 255-pixel[1]\n  b = 255-pixel[2]\n  pixel = (r,g,b,255)\n  return pixel\ndef invertimage(image):\n  pixels = image.load()\n  width = image.size[0]\n  height = image.size[1]\n  for x in range(0,width-1):\n    for y in range(0,height):\n      pixels[x,y] = oppositepixel(pixels[x+1,y])\n\ndef reducergbmodn(pixel,n):\n  r = 255*(pixel[0]%n)\n  g = 255*(pixel[1]%n)\n  b = 255*(pixel[2]%n)\n  pixel = (r,g,b,255)\n  return pixel\ndef rightandopposite(image):\n  pixels = image.load();\n  width = image.size[0]\n  height = image.size[1]\n  for x in range(0,width-1):\n    for y in range(0,height):\n      if pixels[x,y][0] % 7 == 0:\n        pixels[x,y] = oppositepixel(pixels[x+1,y])\ndef modifyyellows(pixels,width,height):\n  for x in range(0,width):\n    for y in range(0,height):\n      if pixels[x,y][0] % 7 == 0: #largest prime make this for specific case maybe liek yellows\n        pixels[x,y] = oppositepixel(pixels[x%5,y%5])\n\ndef modnreplaceoppisite(img,imag,n,r,j,l):\n  width1 = img.size[0]\n  height1 = img.size[1]\n  width2 = imag.size[0]\n  height2 = imag.size[1]\n  pixels = img.load()\n  pixelss = imag.load()\n  for x in range(0,width1-1):\n    for y in range(0,height1):\n      for k in range(0,r):\n        for t in range(0,l):\n          if (pixels[x,y][0]) % (n + ((k + l) % j)) == 0:\n            pixels[x,y] = oppositepixel(pixelss[(x+1)%width2,y%height2])#opp\n\ndef modulotrialopp(img,imag,n,r,j,l):\n  width1 = img.size[0]\n  height1 = img.size[1]\n  width2 = imag.size[0]\n  height2 = imag.size[1]\n  pixels = img.load()\n  pixelss = imag.load()\n  for x in range(0,width1-1):\n    for y in range(0,height1):\n      for k in range(0,r):\n        for t in range(0,l):\n          pixels[x,y] = oppositepixel(pixelss[(x+1)%width2,y%height2])#opp\n\ndef modnreplace(img,imag,n,r):\n  width1 = img.size[0]\n  height1 = img.size[1]\n  width2 = imag.size[0]\n  height2 = imag.size[1]\n  pixels = img.load()\n  pixelss = imag.load()\n  for x in range(0,width1-1):\n    for y in range(0,height1):\n      for k in range(0,r):\n        if (pixels[x,y][0]) % (n + k) == 0:\n          pixels[x,y] = pixelss[(x+1)%width2,y%height2]\n"
   ]
  },
  {
   "cell_type": "code",
   "execution_count": null,
   "metadata": {
    "id": "1tbXA3w7ahj7"
   },
   "outputs": [],
   "source": [
    "iameg = Image.open('/content/gdrive/My Drive/Chem2/roof.JPG')\nsec = Image.open('path/to/image.jpg')\n"
   ]
  },
  {
   "cell_type": "code",
   "execution_count": null,
   "metadata": {
    "id": "QeR49SpBahzp"
   },
   "outputs": [],
   "source": [
    "modulotrialopp(sec,iameg,5,3,7,23)\n"
   ]
  },
  {
   "cell_type": "code",
   "execution_count": null,
   "metadata": {
    "id": "QBkzVAQmaiCG"
   },
   "outputs": [],
   "source": [
    "sec.save('path/to/image.png')\n"
   ]
  },
  {
   "cell_type": "code",
   "execution_count": null,
   "metadata": {
    "id": "9scYLL16aZaK"
   },
   "outputs": [],
   "source": [
    "image = Image.open('path/to/image.png')\ninvertimage(image)\nimage.save('path/to/image.png')\n"
   ]
  },
  {
   "cell_type": "code",
   "execution_count": null,
   "metadata": {
    "id": "dcNraCagHwJh"
   },
   "outputs": [],
   "source": [
    "def finddiffpixel(imag):\n  width = imag.size[0]\n  height = imag.size[1]\n  pixels = imag.load()\n  diffpixel_ = pixels[0,0]\n  diffred_ = 0\n  diffgreen_ = 0\n  diffblue_ = 0\n  totaldiff_ = 0\n  diffindex_x = 0\n  diffindex_y = 0\n  for x in range(1, width):\n    for y in range(1,height):\n      newreddiff_ = pixels[x,y][0] - diffpixel_[0]\n      newgreendiff_ = pixels[x,y][1] - diffpixel_[1]\n      newbluediff_ = pixels[x,y][2] - diffpixel_[2]\n      newdifftotal_ = newreddiff_ + newgreendiff_ + newbluediff_\n      if newdifftotal_ > totaldiff_:\n        totaldiff_ = newdifftotal_\n        diffpixel_ = pixels[x,y]\n        diffindex_x = x\n        diffindex_y = y\n  return diffindex_x,diffindex_y\n"
   ]
  },
  {
   "cell_type": "code",
   "execution_count": null,
   "metadata": {
    "id": "OfSP9jxLJsxz"
   },
   "outputs": [],
   "source": [
    "coffee = Image.open('path/to/image.jpg')\ninvertimage(coffee)\ncoffee.save('path/to/image.png')\n"
   ]
  },
  {
   "cell_type": "code",
   "execution_count": null,
   "metadata": {
    "id": "lBTPtIwNgjFR"
   },
   "outputs": [],
   "source": [
    "def addrandomnoise(img):\n  width = img.size[0]\n  height = img.size[1]\n  pixels = img.load()\n  for x in range(0, width):\n    for y in range(0,height):\n      pixels[x,y] = ((pixels[x,y][0] + random.randint(1,600))%255,(pixels[x,y][1] + random.randint(1,600))%255,(pixels[x,y][2] + random.randint(1,600))%255,255)\n  return img\ndef overlap(img1,img2):\n  width1 = img1.size[0]\n  height1 = img1.size[1]\n  width2 = img2.size[0]\n  height2 = img2.size[1]\n  pixels = img1.load()\n  pixelss = img2.load()\n  for x in range(0,width1):\n    for y in range(0,height1):\n      pixels[x,y] = pixelss[x%width2,y%height2]\ndef relaxednoise(img1,img2):\n  width1 = img1.size[0]\n  height1 = img1.size[1]\n  width2 = img2.size[0]\n  height2 = img2.size[1]\n  pixels = img1.load()\n  pixelss = img2.load()\n  for x in range(0,width1):\n    for y in range(0,height1):\n      r = (((pixels[x,y][0])**2 + (pixelss[x%width2,y%height2][0])**2)**5)%255\n      g = (((pixels[x,y][1])**2 + (pixelss[x%width2,y%height2][1])**2)**.5)%255\n      b = (((pixels[x,y][2])**2 + (pixelss[x%width2,y%height2][2])**2)**.5)%255\n      pixels[x,y] = (math.floor(r),math.floor(g),math.floor(b),255)\n\ndef overlaplite(img1,img2,opacity):\n  width2 = img2.size[0]\n  height2 = img2.size[1]\n  #img1 = img1.resize((width2,height2))\n  pixels = img1.load()\n  pixelss = img2.load()\n  for x in range(0,width2):\n    for y in range(0,height2):\n      pixels[x,y] = (pixelss[x,y][0], pixelss[x,y][1], pixelss[x,y][2], opacity)\ndef brighter(image):\n  width = image.size[0]\n  height = image.size[1]\n  pixels = image.load()\n  for x in range(0,width):\n    for y in range(0,height):\n      pixels[x,y] = ((pixels[x,y][0]+10)%255, (pixels[x,y][1]+10)%255, (pixels[x,y][2]+10)%255, 255)\n"
   ]
  },
  {
   "cell_type": "code",
   "execution_count": null,
   "metadata": {
    "id": "wJ5MePnMDRFy"
   },
   "outputs": [],
   "source": [
    "parallel = Image.open('path/to/image.png')\nroad = Image.open('path/to/image.jpg')\noverlaplite(parallel,road,200)\nparallel.save('path/to/image.png')\n"
   ]
  },
  {
   "cell_type": "code",
   "execution_count": null,
   "metadata": {
    "id": "LkiHMxHJ9zO_"
   },
   "outputs": [],
   "source": [
    "def blackandwhiteradius(image,radius):\n  width = image.size[0]\n  height = image.size[1]\n  pixels = image.load()\n  diffindex_x,diffindex_y = finddiffpixel(image)\n  for x in range(0,width):\n    for y in range(0,height):\n      if pixels[x,y][0] in range(pixels[diffindex_x,diffindex_y][0]-radius,pixels[diffindex_x,diffindex_y][0]+radius) or pixels[x,y][1] in range(pixels[diffindex_x,diffindex_y][1]-radius,pixels[diffindex_x,diffindex_y][1]+radius) or pixels[x,y][2] in range(pixels[diffindex_x,diffindex_y][2]-radius,pixels[diffindex_x,diffindex_y][2]+radius):\n        pixels[x,y] = (255,255,255,255)\n      else:\n        pixels[x,y] = (0,0,0,255)\n\ndef trialmask(image):\n  width = image.size[0]\n  height = image.size[1]\n  pixels = image.load()\n  diffindex_x,diffindex_y = finddiffpixel(image)\n  for x in range(0,width):\n    for y in range(0,height):\n      if pixels[x,y][0] in range(pixels[diffindex_x,diffindex_y][0]-10,pixels[diffindex_x,diffindex_y][0]+10) or pixels[x,y][1] in range(pixels[diffindex_x,diffindex_y][1]-10,pixels[diffindex_x,diffindex_y][1]+10) or pixels[x,y][2] in range(pixels[diffindex_x,diffindex_y][2]-10,pixels[diffindex_x,diffindex_y][2]+10):\n        continue\n      else:\n        pixels[x,y] = (0,0,0,255)\ndef radiusmask(image,radius):\n  width = image.size[0]\n  height = image.size[1]\n  pixels = image.load()\n  diffindex_x,diffindex_y = finddiffpixel(image)\n  for x in range(0,width):\n    for y in range(0,height):\n      if pixels[x,y][0] in range(pixels[diffindex_x,diffindex_y][0]-radius,pixels[diffindex_x,diffindex_y][0]+radius) or pixels[x,y][1] in range(pixels[diffindex_x,diffindex_y][1]-radius,pixels[diffindex_x,diffindex_y][1]+radius) or pixels[x,y][2] in range(pixels[diffindex_x,diffindex_y][2]-radius,pixels[diffindex_x,diffindex_y][2]+radius):\n        continue\n      else:\n        pixels[x,y] = (0,0,0,255)\n"
   ]
  },
  {
   "cell_type": "code",
   "execution_count": null,
   "metadata": {
    "id": "tuGggGfw2zsI"
   },
   "outputs": [],
   "source": [
    "iamge = Image.open('path/to/image.jpg')\nblackandwhiteradius(iamge, 150)\niamge.save('path/to/image.png')\n"
   ]
  },
  {
   "cell_type": "code",
   "execution_count": null,
   "metadata": {
    "id": "o9572erCAuT-"
   },
   "outputs": [],
   "source": [
    "iamge = Image.open('path/to/image.jpeg')\ntrialmask(iamge)\niamge.save('path/to/image.png')\n"
   ]
  },
  {
   "cell_type": "code",
   "execution_count": null,
   "metadata": {
    "id": "BGlH2QK8AxYk"
   },
   "outputs": [],
   "source": [
    "iamge = Image.open('path/to/image.jpeg')\nradiusmask(iamge, 65)\niamge.save('path/to/image.png')\n"
   ]
  },
  {
   "cell_type": "code",
   "execution_count": null,
   "metadata": {
    "id": "W8Rfp4gTYNv2"
   },
   "outputs": [],
   "source": [
    ""
   ]
  },
  {
   "cell_type": "code",
   "execution_count": null,
   "metadata": {
    "id": "bSu_HMNJmk2N"
   },
   "outputs": [],
   "source": [
    "im1 = Image.open('path/to/image.png')\nim2 = Image.open('path/to/image.png')\noverlap(im1,im2)\nim1.save('path/to/image.png')\n"
   ]
  },
  {
   "cell_type": "code",
   "execution_count": null,
   "metadata": {
    "id": "GKGvl0eA4eXB"
   },
   "outputs": [],
   "source": [
    "im2 = Image.open('path/to/image.jpg')\nblackandwhiteradius(im2, 75)\n#im2.save('path/to/image.png')\n"
   ]
  },
  {
   "cell_type": "code",
   "execution_count": null,
   "metadata": {
    "id": "_gnt5SscMxRH"
   },
   "outputs": [],
   "source": [
    "def maskoverlapnoresize(img1,img2,radius):\n  width1 = img1.size[0]\n  height1 = img1.size[1]\n  width2 = img2.size[0]\n  height2 = img2.size[1]\n  pixels = img1.load()\n  pixelss = img2.load()\n  diffindex_x,diffindex_y = finddiffpixel(img1)\n  for x in range(0,width1):\n    for y in range(0,height1):\n      if pixels[x,y][0] in range(pixels[diffindex_x,diffindex_y][0]-radius,pixels[diffindex_x,diffindex_y][0]+radius) or pixels[x,y][1] in range(pixels[diffindex_x,diffindex_y][1]-radius,pixels[diffindex_x,diffindex_y][1]+radius) or pixels[x,y][2] in range(pixels[diffindex_x,diffindex_y][2]-radius,pixels[diffindex_x,diffindex_y][2]+radius):\n        continue\n      else:\n        pixels[x,y] = pixelss[x%width2,y%height2]\ndef maskoverlapwresize(img1,img2,radius,margin):\n  width1 = img1.size[0]\n  height1 = img1.size[1]\n  img2 = img2.resize((width1,height1))\n  pixels = img1.load()\n  pixelss = img2.load()\n  diffindex_x,diffindex_y = finddiffpixel(img1)\n  for x in range(0,width1):\n    for y in range(0,height1):\n      if (pixels[x,y][0] in range(pixels[diffindex_x,diffindex_y][0]-radius,pixels[diffindex_x,diffindex_y][0]+radius)\n      or pixels[x,y][1] in range(pixels[diffindex_x,diffindex_y][1]-radius,pixels[diffindex_x,diffindex_y][1]+radius)\n      or pixels[x,y][2] in range(pixels[diffindex_x,diffindex_y][2]-radius,pixels[diffindex_x,diffindex_y][2]+radius)\n      or pixels[x,y][0] in range(pixels[diffindex_x+margin,diffindex_y+margin][0]-radius,pixels[diffindex_x+margin,diffindex_y+margin][0]+radius)\n      or pixels[x,y][1] in range(pixels[diffindex_x+margin,diffindex_y+margin][1]-radius,pixels[diffindex_x+margin,diffindex_y+margin][1]+radius)\n      or pixels[x,y][2] in range(pixels[diffindex_x+margin,diffindex_y+margin][2]-radius,pixels[diffindex_x+margin,diffindex_y+margin][2]+radius)\n      or pixels[x,y][0] in range(pixels[diffindex_x-margin,diffindex_y+margin][0]-radius,pixels[diffindex_x-margin,diffindex_y+margin][0]+radius)\n      or pixels[x,y][1] in range(pixels[diffindex_x-margin,diffindex_y+margin][1]-radius,pixels[diffindex_x-margin,diffindex_y+margin][1]+radius)\n      or pixels[x,y][2] in range(pixels[diffindex_x-margin,diffindex_y+margin][2]-radius,pixels[diffindex_x-margin,diffindex_y+margin][2]+radius)\n      ):\n        continue\n      else:\n        pixels[x,y] = ((pixelss[x,y][0]+pixelss[x,y][0])%255,(pixelss[x,y][1] + pixels[x,y][1])%255,(pixels[x,y][2]+pixels[x,y][2])%255,255)\ndef thirdmaskoverlapwresize(img1,img2,img3,radius):\n  width1 = img1.size[0]\n  height1 = img1.size[1]\n  img2 = img2.resize((width1,height1))\n  img3 = img3.resize((width1,height1))\n  pixels = img1.load()\n  pixelss = img2.load()\n  pixelsss = img3.load()\n  diffindex_x,diffindex_y = finddiffpixel(img1)\n  for x in range(0,width1):\n    for y in range(0,height1):\n      if pixels[x,y][0] in range(pixels[diffindex_x,diffindex_y][0]-radius,pixels[diffindex_x,diffindex_y][0]+radius) or pixels[x,y][1] in range(pixels[diffindex_x,diffindex_y][1]-radius,pixels[diffindex_x,diffindex_y][1]+radius) or pixels[x,y][2] in range(pixels[diffindex_x,diffindex_y][2]-radius,pixels[diffindex_x,diffindex_y][2]+radius):\n        pixels[x,y] = pixelsss[x,y]\n      else:\n        pixels[x,y] = pixelss[x,y]\n"
   ]
  },
  {
   "cell_type": "code",
   "execution_count": null,
   "metadata": {
    "id": "xwkV4sD45YlL"
   },
   "outputs": [],
   "source": [
    "im1 = Image.open('path/to/image.jpg')\nim2 = Image.open('path/to/image.jpg')\nim3 = Image.open('path/to/image.jpg')\nim4 = Image.open('path/to/image.jpg')\nrelaxednoise(im3,im2)\nrelaxednoise(im4,im1)\nmaskoverlapwresize(im1,im2,100,50)\nim1.save('path/to/image.png')\n"
   ]
  },
  {
   "cell_type": "code",
   "source": [
    "im2.save('path/to/image.png')\nim3.save('path/to/image.png')\nim4.save('path/to/image.png')\n"
   ],
   "metadata": {
    "id": "JP5g33FpsztG"
   },
   "execution_count": null,
   "outputs": []
  },
  {
   "cell_type": "code",
   "source": [
    "maskoverlapwresize(im1,im3,75,100)\nim1.save('path/to/image.png')\n"
   ],
   "metadata": {
    "id": "Shleou-htmrX"
   },
   "execution_count": null,
   "outputs": []
  },
  {
   "cell_type": "code",
   "source": [
    "maskoverlapwresize(im1,im4,150,50)\nim1.save('path/to/image.png')\n"
   ],
   "metadata": {
    "id": "gm8YF5cpkdq_"
   },
   "execution_count": null,
   "outputs": []
  },
  {
   "cell_type": "code",
   "source": [
    "maskoverlapwresize(im1,im3,150,25)\nim4.save('path/to/image.png')\n"
   ],
   "metadata": {
    "id": "835VIAQskfKh"
   },
   "execution_count": null,
   "outputs": []
  },
  {
   "cell_type": "code",
   "source": [
    "image = Image.open('path/to/image.png')\nimage2 = Image.open('path/to/image.png')\nmaskoverlapwresize(image2, image,150,25)\nimage2.save('path/to/image.png')\n"
   ],
   "metadata": {
    "id": "UYQxCHAfrg5K"
   },
   "execution_count": null,
   "outputs": []
  },
  {
   "cell_type": "code",
   "source": [
    "maskoverlapwresize(im1,im3,100,50)\nim4.save('path/to/image.png')\n"
   ],
   "metadata": {
    "id": "dUtPSJbCkjGj"
   },
   "execution_count": null,
   "outputs": []
  },
  {
   "cell_type": "code",
   "source": [
    "maskoverlapwresize(im2,im1,100,50)\nim1.save('path/to/image.png')\n"
   ],
   "metadata": {
    "id": "dArQg0w9jEZ2"
   },
   "execution_count": null,
   "outputs": []
  },
  {
   "cell_type": "code",
   "execution_count": null,
   "metadata": {
    "id": "3YuR-mG_okvO"
   },
   "outputs": [],
   "source": [
    "im2.show()\n"
   ]
  },
  {
   "cell_type": "code",
   "execution_count": null,
   "metadata": {
    "id": "lidiLlL5n8Cf"
   },
   "outputs": [],
   "source": [
    ""
   ]
  },
  {
   "cell_type": "code",
   "execution_count": null,
   "metadata": {
    "id": "apMkwrZRccZY"
   },
   "outputs": [],
   "source": [
    "im1 = Image.open('path/to/image.png')\nim2 = Image.open('path/to/image.jpg')\nmaskoverlapnoresize(im1,im2,100)\nim1.save('path/to/image.png')\n"
   ]
  },
  {
   "cell_type": "code",
   "execution_count": null,
   "metadata": {
    "id": "n7jSaAhUtNQ0"
   },
   "outputs": [],
   "source": [
    "im3 = Image.open('path/to/image.jpg')\nim4 = Image.open('path/to/image.png')\nmaskoverlapnoresize(im4,im3,50)\n"
   ]
  },
  {
   "cell_type": "code",
   "execution_count": null,
   "metadata": {
    "id": "krxpNWVauH0W"
   },
   "outputs": [],
   "source": [
    "im4.save('path/to/image.png')\n"
   ]
  },
  {
   "cell_type": "code",
   "execution_count": null,
   "metadata": {
    "id": "CoQ0459X5laQ"
   },
   "outputs": [],
   "source": [
    "iamge.save('path/to/image.png')\n"
   ]
  },
  {
   "cell_type": "code",
   "execution_count": null,
   "metadata": {
    "id": "86cgvUMj5SKj"
   },
   "outputs": [],
   "source": [
    "iamge1 = Image.open('path/to/image.jpg')\nim1 = Image.open('path/to/image.jpg')\nmaskoverlapnoresize(iamge1,im1,63)\n"
   ]
  },
  {
   "cell_type": "code",
   "execution_count": null,
   "metadata": {
    "id": "_Zp_3NDI6AOF"
   },
   "outputs": [],
   "source": [
    "iamge1.save('path/to/image.png')\n"
   ]
  },
  {
   "cell_type": "code",
   "execution_count": null,
   "metadata": {
    "id": "260QfNC26LIR"
   },
   "outputs": [],
   "source": [
    "maskoverlapnoresize(im2,iamge,63)\n"
   ]
  },
  {
   "cell_type": "code",
   "execution_count": null,
   "metadata": {
    "id": "s_nQ-ryz6Qtz"
   },
   "outputs": [],
   "source": [
    "im2.save('path/to/image.png')\n"
   ]
  },
  {
   "cell_type": "code",
   "execution_count": null,
   "metadata": {
    "id": "ZaTFByTJcEP0"
   },
   "outputs": [],
   "source": [
    "grass = Image.open('path/to/image.jpeg')\nradiusmask(grass,155)\n#invertimage(grass)\ngrass.save('path/to/image.png')\n"
   ]
  },
  {
   "cell_type": "code",
   "execution_count": null,
   "metadata": {
    "id": "k83dzidrcoq5"
   },
   "outputs": [],
   "source": [
    "image = Image.open('path/to/image.png')\ninvertimage(image)\nimage.save('path/to/image.png')\n"
   ]
  },
  {
   "cell_type": "code",
   "execution_count": null,
   "metadata": {
    "id": "qILE83lmahZ6"
   },
   "outputs": [],
   "source": [
    "grass = Image.open('path/to/image.jpg')\nradiusmask(grass,50)\ngrass.save('path/to/image.png')\n"
   ]
  },
  {
   "cell_type": "code",
   "execution_count": null,
   "metadata": {
    "id": "hSHFaCO1XVK7",
    "colab": {
     "base_uri": "https://localhost:8080/",
     "height": 211
    },
    "outputId": "844e3437-5698-4aa1-c513-070173ee0bde"
   },
   "outputs": [],
   "source": [
    "#img3 = Image.open('path/to/image.png')\n#img4 = Image.open('path/to/image.jpg')\n#img5 = Image.open('path/to/image.jpg')\nrelaxednoise(im1,addrandomnoise(im1))\n"
   ]
  },
  {
   "cell_type": "code",
   "source": [
    "modnreplace(im3,im1,7,15)\nimg3 = im3.resize((im4.size[0],im4.size[1]))\nthirdmaskoverlapwresize(img3,im4,im1,75)\n"
   ],
   "metadata": {
    "id": "ZQQidpfrmnYu"
   },
   "execution_count": null,
   "outputs": []
  },
  {
   "cell_type": "code",
   "execution_count": null,
   "metadata": {
    "id": "zCqEHAwNfbUm"
   },
   "outputs": [],
   "source": [
    "maskoverlapwresize(img3,im4,75,1)\nimg3.save('path/to/image.png')\n"
   ]
  },
  {
   "cell_type": "code",
   "source": [
    "imm = Image.open ('path/to/image.png')\nmaskoverlapwresize(imm,img3,50,3)\n"
   ],
   "metadata": {
    "id": "BBUs8czmnWwH"
   },
   "execution_count": null,
   "outputs": []
  },
  {
   "cell_type": "code",
   "source": [
    "imm.save('path/to/image.png')\n"
   ],
   "metadata": {
    "id": "fFK7UypjpFOu"
   },
   "execution_count": null,
   "outputs": []
  },
  {
   "cell_type": "code",
   "execution_count": null,
   "metadata": {
    "id": "G6LdoETCN6MH"
   },
   "outputs": [],
   "source": [
    "iimage = Image.open('path/to/image.png')\ninvertimage(iimage)\niimage.save('path/to/image.png')\n"
   ]
  },
  {
   "cell_type": "code",
   "execution_count": null,
   "metadata": {
    "id": "FYMmHFIZsgxb"
   },
   "outputs": [],
   "source": [
    "img6 = Image.open('path/to/image.png')\nmaskoverlapwresize(img3,img6,25)\n"
   ]
  },
  {
   "cell_type": "code",
   "execution_count": null,
   "metadata": {
    "id": "q9C3LwsdtI2J"
   },
   "outputs": [],
   "source": [
    "def replacewhites(img1,img2):\n  width1 = img1.size[0]\n  height1 = img1.size[1]\n  img2 = img2.resize((width1,height1))\n  pixels = img1.load()\n  pixelss = img2.load()\n  for x in range(0,width1):\n    for y in range(0,height1):\n      if (pixels[x,y][0] + pixels[x,y][1] + pixels[x,y][2]) > 700:\n        pixels[x,y] = pixelss[x,y]\n      else:\n        continue\n\ndef replaceblack(img1,img2):\n  width1 = img1.size[0]\n  height1 = img1.size[1]\n  img2 = img2.resize((width1,height1))\n  pixels = img1.load()\n  pixelss = img2.load()\n  for x in range(0,width1):\n    for y in range(0,height1):\n      if (pixels[x,y][0] + pixels[x,y][1] + pixels[x,y][2]) < 50:\n        pixels[x,y] = pixelss[x,y]\n      else:\n        continue\n\ndef replacered(img1,img2, rvalue, gvalue, bvalue):\n  width1 = img1.size[0]\n  height1 = img1.size[1]\n  img2 = img2.resize((width1,height1))\n  pixels = img1.load()\n  pixelss = img2.load()\n  for x in range(0,width1):\n    for y in range(0,height1):\n      if (pixels[x,y][0] > rvalue) and ((pixels[x,y][1] - bvalue) < 0) and ((pixels[x,y][2] - gvalue) < 0) :\n        pixels[x,y] = pixelss[x,y]\n      else:\n        continue\n\n\ndef replacecolorbeta(img1,img2, rvalue, gvalue, bvalue):\n  width1 = img1.size[0]\n  height1 = img1.size[1]\n  img2 = img2.resize((width1,height1))\n  pixels = img1.load()\n  pixelss = img2.load()\n  for x in range(0,width1):\n    for y in range(0,height1):\n      if (pixels[x,y][0] < rvalue) and ((pixels[x,y][1] - bvalue) < 0) and ((pixels[x,y][2] - gvalue) < 0) :\n        pixels[x,y] = pixelss[x,y]\n      else:\n        continue\n\ndef replacecolorbeta(img1,img2, rvalue, gvalue, bvalue):\n  width1 = img1.size[0]\n  height1 = img1.size[1]\n  img2 = img2.resize((width1,height1))\n  pixels = img1.load()\n  pixelss = img2.load()\n  for x in range(0,width1):\n    for y in range(0,height1):\n      if ((pixels[x,y][0] - rvalue) < 0) and ((pixels[x,y][1] - bvalue) < 0) and ((pixels[x,y][2] - gvalue) < 0) :\n        pixels[x,y] = pixelss[x,y]\n      else:\n        continue\n\ndef replacecolor(img1,img2, color):\n  width1 = img1.size[0]\n  height1 = img1.size[1]\n  img2 = img2.resize((width1,height1))\n  pixels = img1.load()\n  pixelss = img2.load()\n  for x in range(0,width1):\n    for y in range(0,height1):\n      if color == \"red\" and (pixels[x,y][0] > pixels[x,y][1]) and (pixels[x,y][0] > pixels[x,y][2]):\n        pixels[x,y] = pixelss[x,y]\n      elif color == \"green\" and (pixels[x,y][1] > pixels[x,y][0]) and (pixels[x,y][1] > pixels[x,y][2]):\n        pixels[x,y] = pixelss[x,y]\n      elif color == \"blue\" and (pixels[x,y][2] > pixels[x,y][0]) and (pixels[x,y][2] > pixels[x,y][1]):\n        pixels[x,y] = pixelss[x,y]\n      else:\n        continue\n\ndef replacegreyblackwhite(img1,img2):\n  width1 = img1.size[0]\n  height1 = img1.size[1]\n  img2 = img2.resize((width1,height1))\n  pixels = img1.load()\n  pixelss = img2.load()\n  for x in range(0,width1):\n    for y in range(0,height1):\n      if ((pixels[x,y][0] + pixels[x,y][1] + pixels[x,y][2])>100 and  (pixels[x,y][0] + pixels[x,y][1] + pixels[x,y][2]) < 250) or (pixels[x,y][0] + pixels[x,y][1] + pixels[x,y][2]) > 500:\n        pixels[x,y] = pixelss[x,y]\n      else:\n        continue\n\ndef replacegrey(img1,img2):\n  width1 = img1.size[0]\n  height1 = img1.size[1]\n  img2 = img2.resize((width1,height1))\n  pixels = img1.load()\n  pixelss = img2.load()\n  for x in range(0,width1):\n    for y in range(0,height1):\n      if ((pixels[x,y][0] + pixels[x,y][1] + pixels[x,y][2]) > 275 and  (pixels[x,y][0] + pixels[x,y][1] + pixels[x,y][2]) < 300):\n        pixels[x,y] = pixelss[x,y]\n      else:\n        continue\n\n\ndef replacewhitesw(img1,img2,radius):\n  width1 = img1.size[0]\n  height1 = img1.size[1]\n  img2 = img2.resize((width1,height1))\n  pixels = img1.load()\n  pixelss = img2.load()\n  for x in range(0,width1):\n    for y in range(0,height1):\n      if (pixels[x,y][0] + pixels[x,y][1] + pixels[x,y][2]) > 300 and (pixels[(x+radius)%width1,(y+radius)%height1][0] + pixels[(x+radius)%width1,(y+radius)%height1][1] + pixels[(x+radius)%width1,(y+radius)%height1][2])> 300:\n        pixels[x,y] = pixelss[x,y]\n      else:\n        continue\n\ndef findpixel(img1, rvalue, gvalue, bvalue):\n  width1 = img1.size[0]\n  height1 = img1.size[1]\n  pixels = img1.load()\n  for x in range(0,width1):\n    for y in range(0,height1):\n      if (pixels[x,y][0] == rvalue) and (pixels[x,y][1] == gvalue) and (pixels[x,y][0] == bvalue):\n        return pixels[x,y]\n      else:\n        continue\n\ndef approxequals(value1,value2,value3):\n  if abs(value1 - value2) < value3:\n    return True\n  else:\n    return False\n\ndef romve(img1, img2, rvalue, gvalue, bvalue,radius):\n    width1 = img1.size[0]\n    height1 = img1.size[1]\n    pixels = img1.load()\n    img2 = img2.resize((width1,height1))\n    pixelss = img2.load()\n    for x in range(0,width1):\n      for y in range(0,height1):\n        if approxequals(pixels[x,y][0],rvalue,radius) and approxequals(pixels[x,y][1],gvalue,radius) and approxequals(pixels[x,y][0],bvalue,radius):\n          pixels[x,y] = pixelss[x,y]\n"
   ]
  },
  {
   "cell_type": "code",
   "execution_count": null,
   "metadata": {
    "id": "W5tSEkHcNrrO"
   },
   "outputs": [],
   "source": [
    "imag = Image.open('path/to/image.png')\nimag1 = Image.open('path/to/image.png')\nimag2 = Image.open('path/to/image.png')\n\nmaskoverlapwresize(imag1,imag,25,10)\nmodnreplace(imag1,imag2,11,5)\nrelaxednoise(imag,imag1)\nimag.save('path/to/image.png')\n\n#replaceblack(coffee,imag1)\n#replacewhites(coffee,imag)\n#replacered(imag1,imag,40, 255, 80)\n#pixels = imag1.load()\n#romve(imag, imag1, 255,255,255,100)\n#romve(imag, imag2, 0,0,0,100)\n#coffee.save('path/to/image.png')\n#print(finddiffpixel(imag1))\n#print(findpixel(imag1,134,174,179))\n#\n#print(pixels[imag1.size[0]-1,imag1.size[1]-1])\n"
   ]
  },
  {
   "cell_type": "code",
   "execution_count": null,
   "metadata": {
    "id": "7JzbumKimtIR"
   },
   "outputs": [],
   "source": [
    "nim = Image.open('path/to/image.png')\n"
   ]
  },
  {
   "cell_type": "code",
   "execution_count": null,
   "metadata": {
    "id": "GKpUzYneNKOL"
   },
   "outputs": [],
   "source": [
    "maskoverlapwresize(nim,imag,15,5)\nnim.save('path/to/image.png')\n"
   ]
  },
  {
   "cell_type": "code",
   "execution_count": null,
   "metadata": {
    "id": "3ysunghcNF23"
   },
   "outputs": [],
   "source": [
    ""
   ]
  },
  {
   "cell_type": "code",
   "execution_count": null,
   "metadata": {
    "id": "clI_1KLwMSwe"
   },
   "outputs": [],
   "source": [
    ""
   ]
  },
  {
   "cell_type": "code",
   "execution_count": null,
   "metadata": {
    "id": "rS8obrjhBREd"
   },
   "outputs": [],
   "source": [
    "iamge = Image.open('path/to/image.png')\niamgea = Image.open('path/to/image.png')\niamgeab = Image.open('path/to/image.jpeg')\nmodnreplace(iamgea,iamgeab,7)\naddrandomnoise(iamgea)\nreplacewhites(iamge,iamgea)\niamge.save('path/to/image.png')\n"
   ]
  },
  {
   "cell_type": "code",
   "execution_count": null,
   "metadata": {
    "id": "MJG8NBkSI4yU"
   },
   "outputs": [],
   "source": [
    "iamge = Image.open('path/to/image.png')\nnew = Image.open('path/to/image.png')\nthirdmaskoverlapwresize(new,iamge,Image.open('path/to/image.png'),1)\nnew.save('path/to/image.png')\n"
   ]
  },
  {
   "cell_type": "code",
   "execution_count": null,
   "metadata": {
    "id": "VKLtGrqJNfF6"
   },
   "outputs": [],
   "source": [
    "newww = Image.open('path/to/image.png')\nnew22 = Image.open('path/to/image.png')\nreplacegrey(newww,new22)\nnewww.save('path/to/image.png')\n"
   ]
  },
  {
   "cell_type": "code",
   "execution_count": null,
   "metadata": {
    "id": "u7YXJGF8NQ68"
   },
   "outputs": [],
   "source": [
    ""
   ]
  },
  {
   "cell_type": "code",
   "execution_count": null,
   "metadata": {
    "id": "CHdtbOjsLyjM"
   },
   "outputs": [],
   "source": [
    ""
   ]
  },
  {
   "cell_type": "code",
   "execution_count": null,
   "metadata": {
    "id": "g8wp9I2v7C8R"
   },
   "outputs": [],
   "source": [
    "im1 = Image.open('path/to/image.png')\nim2 = Image.open('path/to/image.png')\nim3 = Image.open('path/to/image.jpg')\nim4 = Image.open('path/to/image.png')\nrelaxednoise(im2,im3)\nreplaceblack(im1,im4)\nreplacewhites(im1,im2)\nim1.save('path/to/image.png')\n"
   ]
  },
  {
   "cell_type": "code",
   "execution_count": null,
   "metadata": {
    "id": "VERXdeg4vEB8",
    "colab": {
     "base_uri": "https://localhost:8080/",
     "height": 332
    },
    "outputId": "85886c2f-71fc-491a-83ca-91f64fc565ec"
   },
   "outputs": [],
   "source": [
    "im4 = Image.open('path/to/image.jpg')\nim3 = Image.open('path/to/image.png')\nreplacewhitesw(im4,im3,10)\nim4.save('path/to/image.png')\n#im3 = Image.open('path/to/image.jpg')\n#im4 = Image.open('path/to/image.png')\n#replacewhitesw(im3,im4,100)\n#im3.save('path/to/image.png')\n"
   ]
  },
  {
   "cell_type": "code",
   "execution_count": null,
   "metadata": {
    "id": "SPJOw7WzwHRJ"
   },
   "outputs": [],
   "source": [
    "im3 = Image.open('path/to/image.jpg')\nim4 = Image.open('path/to/image.png')\nreplacewhitesw(im4,im3,5)\nim4.save('path/to/image.png')\n"
   ]
  },
  {
   "cell_type": "code",
   "execution_count": null,
   "metadata": {
    "id": "HMsnVore-A-9"
   },
   "outputs": [],
   "source": [
    "def replacenull(img1,img2):\n  width1 = img1.size[0]\n  height1 = img1.size[1]\n  img2 = img2.resize((width1,height1))\n  pixels = img1.load()\n  pixelss = img2.load()\n  for x in range(0,width1):\n    for y in range(0,height1):\n      if (pixels[x,y][0] + pixels[x,y][1] + pixels[x,y][2]) < 250:\n        pixels[x,y] = pixelss[x,y]\n      else:\n        continue\n"
   ]
  },
  {
   "cell_type": "code",
   "execution_count": null,
   "metadata": {
    "id": "tfx7Ksm27w4B"
   },
   "outputs": [],
   "source": [
    "newiii = Image.open('path/to/image.png')\nnewiiii = Image.open('path/to/image.png')\n#maskoverlapwresize(newiii,newiiii,15,1)\n#replaceblack(newiii,newiiii)\n#relaxednoise(newiiii,Image.open('path/to/image.jpg'))\nreplacenull(newiii,newiiii)\nnewiii.save('path/to/image.png')\n"
   ]
  },
  {
   "cell_type": "code",
   "source": [
    "replacewhites(newiii,newiiii)\nnewiii.save('path/to/image.png')\n"
   ],
   "metadata": {
    "id": "lWiKc-_JvyQR"
   },
   "execution_count": null,
   "outputs": []
  },
  {
   "cell_type": "code",
   "execution_count": null,
   "metadata": {
    "id": "WHEOyZOEKEoF"
   },
   "outputs": [],
   "source": [
    ""
   ]
  },
  {
   "cell_type": "code",
   "execution_count": null,
   "metadata": {
    "id": "jmv6KMgNtkHN"
   },
   "outputs": [],
   "source": [
    "img6 = Image.open('path/to/image.png')\nimg7 = Image.open('path/to/image.png')\nmaskoverlapwresize(img6,img7,50)\n"
   ]
  },
  {
   "cell_type": "code",
   "execution_count": null,
   "metadata": {
    "id": "T8tGlY1ZsyBj"
   },
   "outputs": [],
   "source": [
    "img6.save('path/to/image.png')\n"
   ]
  },
  {
   "cell_type": "code",
   "execution_count": null,
   "metadata": {
    "id": "CuFgMTFFvH_7"
   },
   "outputs": [],
   "source": [
    "img8 = Image.open('path/to/image.png')\nmaskoverlapnoresize(img8,img7,50)\nimg8.save('path/to/image.png')\n"
   ]
  },
  {
   "cell_type": "code",
   "execution_count": null,
   "metadata": {
    "id": "ZuY9qsS1UDaf"
   },
   "outputs": [],
   "source": [
    "grass = Image.open('path/to/image.png')\nbw = Image.open('path/to/image.png')\ngrass.putalpha(200)\nbw.paste(im=grass, box=(0, 0), mask=grass)\nbw.save('path/to/image.png')\n"
   ]
  },
  {
   "cell_type": "code",
   "execution_count": null,
   "metadata": {
    "colab": {
     "base_uri": "https://localhost:8080/",
     "height": 193
    },
    "id": "7I8QQCBZ-aYF",
    "outputId": "cbf0d816-9cc7-4f9e-c970-7a2820671a74"
   },
   "outputs": [],
   "source": [
    "image1 = Image.open('path/to/image.jpeg')\n#relaxednoise(image1,Image.open('path/to/image.png'))\nblackandwhiteradius(image1,10)\n"
   ]
  },
  {
   "cell_type": "code",
   "execution_count": null,
   "metadata": {
    "id": "o2aU5F0pi6DE"
   },
   "outputs": [],
   "source": [
    "overlaplite(image1,Image.open('path/to/image.png'),75)\nimage1.save('path/to/image.png')\n"
   ]
  },
  {
   "cell_type": "code",
   "execution_count": null,
   "metadata": {
    "id": "2gTGg-ag298l"
   },
   "outputs": [],
   "source": [
    "imag = Image.open('path/to/image.jpg')\nimag1 = Image.open('path/to/image.png')\n#imag1 = Image.open('path/to/image.png')\nrelaxednoise(imag,imag1)\nmaskoverlapwresize(imag1,imag,25,10)\nmodnreplace(imag,imag1,11,2)\n"
   ]
  },
  {
   "cell_type": "code",
   "execution_count": null,
   "metadata": {
    "id": "AjO0EeEhUc9F"
   },
   "outputs": [],
   "source": [
    "\nimag1 = Image.open('path/to/image.png')\n#imag1 = Image.open('path/to/image.png')\nrelaxednoise(imag,imag1)\nmaskoverlapwresize(imag1,imag,25,10)\nmodnreplace(imag,imag1,11,2)\n"
   ]
  },
  {
   "cell_type": "code",
   "execution_count": null,
   "metadata": {
    "id": "rP7Aj23tUeeK"
   },
   "outputs": [],
   "source": [
    "imag = Image.open('path/to/image.jpeg')\nimag1 = Image.open('path/to/image.png')\n#imag1 = Image.open('path/to/image.png')\n#relaxednoise(imag,imag1)\nmaskoverlapwresize(imag1,imag,25,10)\nmodnreplace(imag,imag1,11,2)\n"
   ]
  },
  {
   "cell_type": "code",
   "execution_count": null,
   "metadata": {
    "id": "0-ZTu8gmdGDJ"
   },
   "outputs": [],
   "source": [
    "imag.save('path/to/image.png')\n"
   ]
  },
  {
   "cell_type": "code",
   "execution_count": null,
   "metadata": {
    "id": "_58tBG7_CIGB"
   },
   "outputs": [],
   "source": [
    "imag1.save('path/to/image.png')\n"
   ]
  },
  {
   "cell_type": "code",
   "execution_count": null,
   "metadata": {
    "id": "hyLpm0hVD6MF"
   },
   "outputs": [],
   "source": [
    "imag2 = Image.open('path/to/image.png')\ninvertimage(imag2)\nimag2.save('path/to/image.png')\n"
   ]
  },
  {
   "cell_type": "code",
   "execution_count": null,
   "metadata": {
    "id": "ai9lh0G__aet"
   },
   "outputs": [],
   "source": [
    "imag1.save('path/to/image.png')\n#imag2.save('path/to/image.png')\n#imag3.save('path/to/image.png')\n"
   ]
  },
  {
   "cell_type": "code",
   "execution_count": null,
   "metadata": {
    "id": "LKfT5dNLAAI8"
   },
   "outputs": [],
   "source": [
    ""
   ]
  },
  {
   "cell_type": "code",
   "execution_count": null,
   "metadata": {
    "id": "HooslsFNY7tl"
   },
   "outputs": [],
   "source": [
    "img1 = Image.open('path/to/image.jpeg')\naddrandomnoise(img1)\nimg1.save('path/to/image.png')\n"
   ]
  },
  {
   "cell_type": "code",
   "execution_count": null,
   "metadata": {
    "id": "fhYM6VMjzoF8"
   },
   "outputs": [],
   "source": [
    "img2 = Image.open('path/to/image.jpeg')\n"
   ]
  },
  {
   "cell_type": "code",
   "execution_count": null,
   "metadata": {
    "id": "MO4ndV3D0--V"
   },
   "outputs": [],
   "source": [
    "relaxednoise(img1,img2)\n"
   ]
  },
  {
   "cell_type": "code",
   "execution_count": null,
   "metadata": {
    "id": "cgIJ3kuJ1Gg2"
   },
   "outputs": [],
   "source": [
    "img1.save('path/to/image.png')\n"
   ]
  },
  {
   "cell_type": "code",
   "execution_count": null,
   "metadata": {
    "id": "wvatQ6fGzmIZ"
   },
   "outputs": [],
   "source": [
    "modnreplace(img1,img2,5)\n"
   ]
  },
  {
   "cell_type": "code",
   "execution_count": null,
   "metadata": {
    "id": "Rh3EiQ48zxtP"
   },
   "outputs": [],
   "source": [
    "img1.save('path/to/image.png')\n"
   ]
  },
  {
   "cell_type": "code",
   "execution_count": null,
   "metadata": {
    "id": "afoW-Tf7WiLM"
   },
   "outputs": [],
   "source": [
    "Girl = Image.open('path/to/image.png')\nfart = Image.open('path/to/image.png')\nfart1 = Image.open('path/to/image.png')\nreplaceblack(Girl,fart1)\nGirl.save('path/to/image.png')\nreplacewhites(Girl,fart)\nGirl.save('path/to/image.png')\n"
   ]
  },
  {
   "cell_type": "code",
   "execution_count": null,
   "metadata": {
    "id": "NIDdiXfFjUXB"
   },
   "outputs": [],
   "source": [
    "imag = Image.open('path/to/image.png')\nimag1 = Image.open('path/to/image.png')\nimag2 = Image.open('path/to/image.png')\n#imag3 = Image.open('path/to/image.png')\nrelaxednoise(imag1,imag)\nrelaxednoise(imag2,imag)\naddrandomnoise(imag)\noverlap(imag,imag1)\noverlap(imag2,imag)\n"
   ]
  },
  {
   "cell_type": "code",
   "execution_count": null,
   "metadata": {
    "id": "IC-XBgX_TmP-"
   },
   "outputs": [],
   "source": [
    "modnreplace(imag,imag2,5,1)\nimag.save('path/to/image.png')\n"
   ]
  },
  {
   "cell_type": "code",
   "execution_count": null,
   "metadata": {
    "id": "AaU9iLz9bp2w"
   },
   "outputs": [],
   "source": [
    "imag1.save('path/to/image.png')\nimag2.save('path/to/image.png')\n"
   ]
  },
  {
   "cell_type": "code",
   "execution_count": null,
   "metadata": {
    "id": "L_Eii0pUj_Rp"
   },
   "outputs": [],
   "source": [
    "def blendpix(img1,img2, rgbvalue,radius):\n  width1 = img1.size[0]\n  height1 = img1.size[1]\n  width2 = img2.size[0]\n  height2 = img2.size[1]\n  pixels = img1.load()\n  pixelss = img2.load()\n  for x in range(0,width1):\n    for y in range(0,height1):\n      if (pixels[x,y][0] + pixels[x,y][1] + pixels[x,y][2] - rgbvalue) > 0:\n          pixels[x,y] = pixelss[(x-radius)%width2, (y + radius)%height2]\n"
   ]
  },
  {
   "cell_type": "code",
   "execution_count": null,
   "metadata": {
    "id": "dEv-fkMhm4PW"
   },
   "outputs": [],
   "source": [
    "fart = Image.open('path/to/image.png')\n#blackandwhiteradius(fart)\nfart0 = Image.open('path/to/image.png')\ninvertimage(fart0)\nblackandwhiteradius(fart0,50)\n"
   ]
  },
  {
   "cell_type": "code",
   "execution_count": null,
   "metadata": {
    "id": "kpjDn06Wsp-m"
   },
   "outputs": [],
   "source": [
    "blendpix(fart, fart0, 150, 25)\nfart.save('path/to/image.png')\n"
   ]
  },
  {
   "cell_type": "code",
   "execution_count": null,
   "metadata": {
    "id": "6WCueiDCusUy"
   },
   "outputs": [],
   "source": [
    "yea = Image.open('path/to/image.png')\nreplacewhitesw(fart,yea,45)\nfart.save('path/to/image.png')\n"
   ]
  }
 ],
 "metadata": {
  "colab": {
   "provenance": []
  },
  "kernelspec": {
   "display_name": "Python 3",
   "name": "python3"
  },
  "language_info": {
   "name": "python"
  }
 },
 "nbformat": 4,
 "nbformat_minor": 0
}