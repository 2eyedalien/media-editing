{
 "cells": [
  {
   "cell_type": "markdown",
   "id": "dfff2080",
   "metadata": {},
   "source": [
    "# Image & Video Processing Notebook\n",
    "\n",
    "This notebook demonstrates how to use helper modules (`video_utils.py`, `pixel_ops.py`, `color_filters.py`, `noise_overlap.py`, `masking.py`) for processing images and creating videos."
   ]
  },
  {
   "cell_type": "code",
   "execution_count": null,
   "id": "29517cf1",
   "metadata": {},
   "outputs": [],
   "source": [
    "\n",
    "# --- Setup ---\n",
    "import sys\n",
    "import os\n",
    "\n",
    "# Add your \"src\" folder to Python path\n",
    "sys.path.append(\"/content/project/src\")   # <-- adjust path if needed\n",
    "\n",
    "# Imports from helper modules\n",
    "from video_utils import create_video_from_frames\n",
    "from pixel_ops import invertimage\n",
    "from color_filters import modifyreds, removegreens\n",
    "from noise_overlap import addrandomnoise, overlap\n",
    "from masking import blackandwhiteradius\n",
    "\n",
    "from PIL import Image\n"
   ]
  },
  {
   "cell_type": "code",
   "execution_count": null,
   "id": "92d92439",
   "metadata": {},
   "outputs": [],
   "source": [
    "\n",
    "# --- Example: Image Inversion ---\n",
    "img = Image.open(\"/content/sample.png\")\n",
    "invertimage(img)\n",
    "img.show()\n"
   ]
  },
  {
   "cell_type": "code",
   "execution_count": null,
   "id": "37a0cb60",
   "metadata": {},
   "outputs": [],
   "source": [
    "\n",
    "# --- Example: Color Filters ---\n",
    "img = Image.open(\"/content/sample.png\")\n",
    "modifyreds(img)\n",
    "removegreens(img)\n",
    "img.show()\n"
   ]
  },
  {
   "cell_type": "code",
   "execution_count": null,
   "id": "90a74345",
   "metadata": {},
   "outputs": [],
   "source": [
    "\n",
    "# --- Example: Noise + Overlap ---\n",
    "img1 = Image.open(\"/content/sample.png\")\n",
    "img2 = Image.open(\"/content/texture.png\")\n",
    "\n",
    "img1 = addrandomnoise(img1)\n",
    "overlap(img1, img2)\n",
    "img1.show()\n"
   ]
  },
  {
   "cell_type": "code",
   "execution_count": null,
   "id": "1e4c6df6",
   "metadata": {},
   "outputs": [],
   "source": [
    "\n",
    "# --- Example: Masking ---\n",
    "img = Image.open(\"/content/sample.png\")\n",
    "blackandwhiteradius(img, 150)\n",
    "img.show()\n"
   ]
  },
  {
   "cell_type": "code",
   "execution_count": null,
   "id": "31ac2f2b",
   "metadata": {},
   "outputs": [],
   "source": [
    "\n",
    "# --- Example: Create Video from Frames ---\n",
    "create_video_from_frames(\n",
    "    image_folder=\"/content/images\", \n",
    "    video_name=\"/content/output.avi\", \n",
    "    fps=30, \n",
    "    duration=10\n",
    ")\n"
   ]
  }
 ],
 "metadata": {},
 "nbformat": 4,
 "nbformat_minor": 5
}
